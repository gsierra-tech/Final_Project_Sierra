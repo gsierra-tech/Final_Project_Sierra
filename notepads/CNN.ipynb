{
 "cells": [
  {
   "cell_type": "markdown",
   "metadata": {},
   "source": [
    "Imports"
   ]
  },
  {
   "cell_type": "code",
   "execution_count": 4,
   "metadata": {},
   "outputs": [
    {
     "ename": "ModuleNotFoundError",
     "evalue": "No module named 'torch'",
     "output_type": "error",
     "traceback": [
      "\u001b[1;31m---------------------------------------------------------------------------\u001b[0m",
      "\u001b[1;31mModuleNotFoundError\u001b[0m                       Traceback (most recent call last)",
      "Cell \u001b[1;32mIn[4], line 7\u001b[0m\n\u001b[0;32m      4\u001b[0m \u001b[38;5;28;01mimport\u001b[39;00m\u001b[38;5;250m \u001b[39m\u001b[38;5;21;01mnumpy\u001b[39;00m\u001b[38;5;250m \u001b[39m\u001b[38;5;28;01mas\u001b[39;00m\u001b[38;5;250m \u001b[39m\u001b[38;5;21;01mnp\u001b[39;00m\n\u001b[0;32m      5\u001b[0m \u001b[38;5;66;03m#import matplotlib.pyplot as plt\u001b[39;00m\n\u001b[1;32m----> 7\u001b[0m \u001b[38;5;28;01mimport\u001b[39;00m\u001b[38;5;250m \u001b[39m\u001b[38;5;21;01mtorch\u001b[39;00m\n\u001b[0;32m      8\u001b[0m \u001b[38;5;28;01mimport\u001b[39;00m\u001b[38;5;250m \u001b[39m\u001b[38;5;21;01mtorchvision\u001b[39;00m\n\u001b[0;32m      9\u001b[0m \u001b[38;5;28;01mimport\u001b[39;00m\u001b[38;5;250m \u001b[39m\u001b[38;5;21;01mtorchvision\u001b[39;00m\u001b[38;5;21;01m.\u001b[39;00m\u001b[38;5;21;01mtransforms\u001b[39;00m\u001b[38;5;250m \u001b[39m\u001b[38;5;28;01mas\u001b[39;00m\u001b[38;5;250m \u001b[39m\u001b[38;5;21;01mtransforms\u001b[39;00m\n",
      "\u001b[1;31mModuleNotFoundError\u001b[0m: No module named 'torch'"
     ]
    }
   ],
   "source": [
    "# Library imports\n",
    "\n",
    "from sklearn.datasets import fetch_openml\n",
    "import numpy as np\n",
    "import matplotlib.pyplot as plt\n",
    "\n",
    "import torch\n",
    "import torchvision\n",
    "import torchvision.transforms as transforms\n",
    "\n",
    "import torch.nn as nn\n",
    "import torch.nn.functional as F\n",
    "import torch.optim as optim\n",
    "from torchvision import datasets"
   ]
  },
  {
   "cell_type": "markdown",
   "metadata": {},
   "source": [
    "MNIST Dataset Loader"
   ]
  },
  {
   "cell_type": "code",
   "execution_count": 76,
   "metadata": {},
   "outputs": [],
   "source": [
    "# MNIST Dataset Loader and Visualization\n",
    "\n",
    "# Fetch the MNIST dataset\n",
    "mnist = fetch_openml('mnist_784', version=1, as_frame=False)\n",
    "\n",
    "# Extract data and labels\n",
    "x, y = mnist['data'], mnist['target']\n",
    "y = y.astype(int)\n",
    "\n",
    "transform = transforms.Compose([\n",
    "    transforms.ToTensor(),\n",
    "    transforms.Normalize((0.5,), (0.5,))\n",
    "])\n",
    "\n",
    "trainset = torchvision.datasets.MNIST(root='./data', train=True,\n",
    "                                       download=True, transform=transform)\n",
    "\n",
    "testset = torchvision.datasets.MNIST(root='./data', train=False,\n",
    "                                      download=True, transform=transform)\n"
   ]
  },
  {
   "cell_type": "markdown",
   "metadata": {},
   "source": [
    "Convolutional Neural Network (CNN)"
   ]
  },
  {
   "cell_type": "code",
   "execution_count": 77,
   "metadata": {},
   "outputs": [],
   "source": [
    "class SimpleCNN(nn.Module):\n",
    "    def __init__(self):\n",
    "        super(SimpleCNN, self).__init__()\n",
    "\n",
    "        # Convolutional layer 1: 1 input channel (grayscale), 32 output channels (filters), 3x3 kernel size\n",
    "        self.conv1 = nn.Conv2d(1, 32, kernel_size=3, padding=1)\n",
    "        # Convolutional layer 2: 32 input channels, 64 output channels, 3x3 kernel size\n",
    "        self.conv2 = nn.Conv2d(32, 64, kernel_size=3, padding=1)\n",
    "\n",
    "        # Max-pooling layer: 2x2 pooling size\n",
    "        self.pool = nn.MaxPool2d(2, 2)\n",
    "\n",
    "        # Fully connected layer 1 (flattened): 64 channels * 7 * 7 (after two pooling operations)\n",
    "        self.fc1 = nn.Linear(64 * 7 * 7, 128)\n",
    "        # Fully connected output layer (10 classes for digit classification)\n",
    "        self.fc2 = nn.Linear(128, 10)\n",
    "\n",
    "    def forward(self, x):\n",
    "        # Apply conv1, ReLU activation, and pooling\n",
    "        x = self.pool(F.relu(self.conv1(x)))\n",
    "        # Apply conv2, ReLU activation, and pooling\n",
    "        x = self.pool(F.relu(self.conv2(x)))\n",
    "\n",
    "        # Flatten the tensor before passing it to the fully connected layers\n",
    "        x = x.view(-1, 64 * 7 * 7)\n",
    "\n",
    "        # Apply fully connected layer 1 and ReLU activation\n",
    "        x = F.relu(self.fc1(x))\n",
    "\n",
    "        # Output layer (no activation here, we'll apply softmax during evaluation)\n",
    "        x = self.fc2(x)\n",
    "        return x\n"
   ]
  },
  {
   "cell_type": "code",
   "execution_count": 78,
   "metadata": {},
   "outputs": [],
   "source": [
    "# Define data augmentation for the training dataset\n",
    "transform_train = transforms.Compose([\n",
    "    transforms.RandomRotation(10),  # Randomly rotate the image by up to 10 degrees\n",
    "    transforms.RandomAffine(0, translate=(0.1, 0.1)),  # Random affine transformation (translation)\n",
    "    transforms.ToTensor(),  # Convert the image to a PyTorch tensor\n",
    "    transforms.Normalize((0.5,), (0.5,))  # Normalize the image (same as before)\n",
    "])\n",
    "\n",
    "# Define the transform for the test dataset (no augmentation)\n",
    "transform_test = transforms.Compose([\n",
    "    transforms.ToTensor(),  # Convert image to tensor\n",
    "    transforms.Normalize((0.5,), (0.5,))  # Normalize the image (same as before)\n",
    "])\n",
    "\n",
    "# Load the MNIST training dataset with data augmentation\n",
    "train_data = datasets.MNIST(root='./data', train=True, download=True, transform=transform_train)  # Loading with augmentation\n",
    "\n",
    "# Load the MNIST test dataset without augmentation\n",
    "test_data = datasets.MNIST(root='./data', train=False, download=True, transform=transform_test)  # Loading without augmentation"
   ]
  },
  {
   "cell_type": "code",
   "execution_count": 79,
   "metadata": {},
   "outputs": [
    {
     "name": "stdout",
     "output_type": "stream",
     "text": [
      "Epoch [1/5], Loss: 1.2297\n",
      "Epoch [2/5], Loss: 0.3483\n",
      "Epoch [3/5], Loss: 0.2205\n",
      "Epoch [4/5], Loss: 0.1692\n",
      "Epoch [5/5], Loss: 0.1387\n"
     ]
    }
   ],
   "source": [
    "# Instantiate the CNN model\n",
    "model = SimpleCNN()  # Create an instance of the CNN class\n",
    "\n",
    "# Loss function and optimizer for CNN (same as FCNN)\n",
    "criterion = nn.CrossEntropyLoss()  # Cross-entropy loss for classification\n",
    "optimizer = torch.optim.SGD(model.parameters(), lr=0.01)  # Stochastic Gradient Descent (you can also try Adam)\n",
    "\n",
    "# Set up the DataLoader for training\n",
    "train_loader = torch.utils.data.DataLoader(train_data, batch_size=64, shuffle=True)\n",
    "\n",
    "# Training loop for the CNN model\n",
    "epochs = 5\n",
    "for epoch in range(epochs):\n",
    "    model.train()  # Set the model to training mode\n",
    "    running_loss = 0.0\n",
    "\n",
    "     # Iterate over batches of data\n",
    "    for inputs, labels in train_loader:\n",
    "        inputs = inputs.view(-1, 1, 28, 28)  # Ensure the correct shape\n",
    "        optimizer.zero_grad()  # Zero the gradients\n",
    "        outputs = model(inputs)  # Pass the inputs through the CNN model\n",
    "        loss = criterion(outputs, labels)  # Compute the loss\n",
    "        loss.backward()  # Backpropagate the gradients\n",
    "        optimizer.step()  # Update the model parameters\n",
    "        running_loss += loss.item()  # Accumulate the loss for logging\n",
    "\n",
    "    # Print the loss after each epoch\n",
    "    print(f\"Epoch [{epoch+1}/{epochs}], Loss: {running_loss/len(train_loader):.4f}\")\n"
   ]
  },
  {
   "cell_type": "code",
   "execution_count": 80,
   "metadata": {},
   "outputs": [
    {
     "name": "stdout",
     "output_type": "stream",
     "text": [
      "Test Accuracy: 97.93%\n"
     ]
    }
   ],
   "source": [
    "# Set up the DataLoader for testing\n",
    "test_loader = torch.utils.data.DataLoader(test_data, batch_size=128, shuffle=False)\n",
    "\n",
    "# Evaluate the CNN model\n",
    "model.eval()  # Set the model to evaluation mode\n",
    "correct = 0\n",
    "total = 0\n",
    "\n",
    "with torch.no_grad():  # Disable gradient computation\n",
    "    for inputs, labels in test_loader:\n",
    "        outputs = model(inputs)  # Pass the inputs through the CNN model\n",
    "        _, predicted = torch.max(outputs, 1)  # Get the class with the highest probability\n",
    "        total += labels.size(0)  # Increment total samples\n",
    "        correct += (predicted == labels).sum().item()  # Count correct predictions\n",
    "\n",
    "accuracy = 100 * correct / total\n",
    "print(f\"Test Accuracy: {accuracy:.2f}%\")"
   ]
  },
  {
   "cell_type": "code",
   "execution_count": 81,
   "metadata": {},
   "outputs": [
    {
     "name": "stdout",
     "output_type": "stream",
     "text": [
      "Model saved as cnn_model.pth\n"
     ]
    }
   ],
   "source": [
    "# Save the model\n",
    "torch.save(model.state_dict(), \"cnn_model.pth\")  # Save the model parameters\n",
    "print(\"Model saved as cnn_model.pth\")"
   ]
  },
  {
   "cell_type": "code",
   "execution_count": 82,
   "metadata": {},
   "outputs": [
    {
     "data": {
      "image/png": "[encoded data removed]",
      "text/plain": [
       "<Figure size 640x480 with 1 Axes>"
      ]
     },
     "metadata": {},
     "output_type": "display_data"
    }
   ],
   "source": [
    "# Load the MNIST dataset\n",
    "mnist = datasets.MNIST(root='./data', train=True, download=True)\n",
    "\n",
    "# Get a random image and its label\n",
    "image, label = mnist[5]  # Change the index to get different images\n",
    "\n",
    "# Display the image directly\n",
    "plt.imshow(image, cmap='gray')\n",
    "plt.title(f\"Label: {label}\")\n",
    "plt.show()\n",
    "\n",
    "# Save the image as a PNG file\n",
    "image.save('mnist_sample.png')"
   ]
  }
 ],
 "metadata": {
  "kernelspec": {
   "display_name": ".venv",
   "language": "python",
   "name": "python3"
  },
  "language_info": {
   "codemirror_mode": {
    "name": "ipython",
    "version": 3
   },
   "file_extension": ".py",
   "mimetype": "text/x-python",
   "name": "python",
   "nbconvert_exporter": "python",
   "pygments_lexer": "ipython3",
   "version": "3.9.13"
  }
 },
 "nbformat": 4,
 "nbformat_minor": 2
}
